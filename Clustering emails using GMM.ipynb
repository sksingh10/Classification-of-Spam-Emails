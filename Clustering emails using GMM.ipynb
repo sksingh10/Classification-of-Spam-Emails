{
 "cells": [
  {
   "cell_type": "markdown",
   "id": "fd1fa5d7",
   "metadata": {},
   "source": [
    "## Clustering emails using Gaussian Mixture Models "
   ]
  },
  {
   "cell_type": "markdown",
   "id": "51dfc5f7",
   "metadata": {},
   "source": [
    "For this problem, we will be analyzing emails taken from the [Enron Email Dataset](https://www.cs.cmu.edu/~enron/). We have already curated the data for you in the `data/enron` directory, with one file per email (so there is no need to redownload the dataset as it is already included in this homework zip archive). The dataset includes a combination of \"spam\" and \"ham\" emails. Spam emails are unsolicited messages intended to sell a product or scam users into providing personal information, while ham emails represent everything that is not spam.\n",
    "\n",
    "The language used in spam emails tends to be considerably different from typical business emails. Most spam filters leverage this difference in word frequencies to detect spam as it arrives and filter it out of email inboxes. We will use Gaussian Mixture Models (GMMs) to cluster the emails and attempt to identify groups of emails which are likely to be spam."
   ]
  },
  {
   "cell_type": "markdown",
   "id": "76026324",
   "metadata": {},
   "source": [
    "### Part A: Construct a list of processed documents"
   ]
  },
  {
   "cell_type": "markdown",
   "id": "2ae14f8a",
   "metadata": {},
   "source": [
    "Provided below is a function that returns a document present in a file given a filename. The function performs some preprocessing to (1) remove punctuation, (2),(3) remove whitespace and (4) lowercase all words. Using the `make_word_list` function, construct a list of processed documents."
   ]
  },
  {
   "cell_type": "code",
   "execution_count": 1,
   "id": "3963abc4",
   "metadata": {},
   "outputs": [],
   "source": [
    "import re\n",
    "import string\n",
    "import codecs\n",
    "\n",
    "def make_word_list(path):\n",
    "    \n",
    "    with codecs.open(path, \"r\", encoding='utf-8', errors='ignore') as f:\n",
    "        corpus_text = f.read()\n",
    "\n",
    "    for c in string.punctuation:\n",
    "        corpus_text = corpus_text.replace(c, \"\")  # -- (1)\n",
    "    \n",
    "    text = re.sub(r'\\S*\\d\\S*', '', corpus_text) # -- (2)\n",
    "    text = re.sub(r'[^\\w\\s]', '', text)         # -- (3)\n",
    "    \n",
    "    text = text.lower().split()           # -- (4)         \n",
    "    \n",
    "    li = []\n",
    "    for token in text:\n",
    "        li.append(token)\n",
    "\n",
    "    return \" \".join(li)"
   ]
  },
  {
   "cell_type": "code",
   "execution_count": 2,
   "id": "a089249a",
   "metadata": {},
   "outputs": [],
   "source": [
    "########################################################################\n",
    "######################### Write your code here #########################\n",
    "########################################################################\n",
    "\n",
    "import glob\n",
    "fileList=glob.glob('./data/enron/*.txt')\n",
    "#print(fileList)\n",
    "\n",
    "documentList=[]\n",
    "\n",
    "for f in fileList:\n",
    "    documentList.append(make_word_list(f))\n",
    "    \n",
    "#print(documentList[0])\n",
    "\n"
   ]
  },
  {
   "cell_type": "markdown",
   "id": "5ee3e337",
   "metadata": {},
   "source": [
    "### Part B: Construct a document matrix "
   ]
  },
  {
   "cell_type": "markdown",
   "id": "1b745d4e",
   "metadata": {},
   "source": [
    "Next, construct a document matrix `X` as a matrix of [TF-IDF](https://en.wikipedia.org/wiki/Tf%E2%80%93idf) features for each document. TF-IDF features encode information about the word frequency within a document, weighted by the frequency of the same word for corpus as a whole.\n",
    "\n",
    "   - Use the `TfidfVectorizer` from [scikit-learn](http://scikit-learn.org/stable/modules/generated/sklearn.feature_extraction.text.TfidfVectorizer.html) to create the document matrix `X`.\n",
    "   - Set `min_df=50`; this drops words that don't occur in at least 50 documents.\n",
    "   - Set `stop_words=\"english\"` and `max_df=0.8` to filter out stop-words.\n",
    "   - Print the number of unique words in the vocabulary Hint: Look for the `vocabulary_` attribute in the `TfidfVectorizer` object after fitting the vectorizer to the data set. The vocabulary will also be needed in part (d)."
   ]
  },
  {
   "cell_type": "code",
   "execution_count": 3,
   "id": "9ed4b290",
   "metadata": {},
   "outputs": [
    {
     "name": "stdout",
     "output_type": "stream",
     "text": [
      "Number of Unique Words:  1680\n"
     ]
    }
   ],
   "source": [
    "########################################################################\n",
    "######################### Write your code here #########################\n",
    "########################################################################\n",
    "\n",
    "from sklearn.feature_extraction.text import TfidfVectorizer\n",
    "\n",
    "tf_vectorizer=TfidfVectorizer(max_df=0.8,min_df=50,stop_words='english')\n",
    "\n",
    "X=tf_vectorizer.fit_transform(documentList)\n",
    "\n",
    "#print(tf.shape)\n",
    "X_array=X.toarray()\n",
    "\n",
    "#print(tf_array.shape)\n",
    "print(\"Number of Unique Words: \", len(tf_vectorizer.vocabulary_))\n"
   ]
  },
  {
   "cell_type": "markdown",
   "id": "e2ce66bc",
   "metadata": {},
   "source": [
    "### Part C: Perform Clustering "
   ]
  },
  {
   "cell_type": "markdown",
   "id": "d7f99805",
   "metadata": {},
   "source": [
    "Perform clustering on the document matrix X using GMMs. \n",
    "- Use the `GaussianMixture` module from [scikit-learn](http://scikit-learn.org/stable/modules/generated/sklearn.mixture.GaussianMixture.html) to cluster the documents.\n",
    "- Set the number of clusters (mixture components) to 3.\n",
    "- Print the number of documents assigned to each cluster."
   ]
  },
  {
   "cell_type": "code",
   "execution_count": 4,
   "id": "72893cfd",
   "metadata": {},
   "outputs": [
    {
     "name": "stdout",
     "output_type": "stream",
     "text": [
      "Cluster  1 :  365\n",
      "Cluster  0 :  4378\n",
      "Cluster  2 :  428\n"
     ]
    }
   ],
   "source": [
    "########################################################################\n",
    "######################### Write your code here #########################\n",
    "########################################################################\n",
    "import numpy as np\n",
    "from collections import Counter\n",
    "from sklearn.mixture import GaussianMixture\n",
    "\n",
    "gmm=GaussianMixture(n_components=3,random_state=0,n_init=1)\n",
    "gmm_fit=gmm.fit(X_array)\n",
    "\n",
    "#print(gmm_fit)\n",
    "cluster_document_counter=Counter()\n",
    "\n",
    "gmm_cluster_assignment=gmm.predict(X_array)\n",
    "for assignment in gmm_cluster_assignment:\n",
    "    cluster_document_counter[assignment]+=1\n",
    "\n",
    "#print(gmm.weights_)\n",
    "for i,cluster_count in cluster_document_counter.items():\n",
    "    print(\"Cluster \",i,\": \",cluster_count)\n"
   ]
  },
  {
   "cell_type": "markdown",
   "id": "b469f2b2",
   "metadata": {},
   "source": [
    "### Part D: Characterize the clusters "
   ]
  },
  {
   "cell_type": "markdown",
   "id": "21cf9c61",
   "metadata": {},
   "source": [
    "Now, we will attempt to characterize the clusters based on the frequency of spam-relevant words. \n",
    "- Select 3 \"spammy\" words from the vocabulary that you expect to occur frequently in spam emails and less frequently in normal business emails (e.g., 'click', 'www', 'offer'). Construct a list, `spam_indices`, storing the indices of the spammy words you selected in the vocabulary generated by `TfidfVectorizer`.\n",
    "- Select 3 \"hammy\" words from the vocabulary you think will occur frequently in business emails and infrequently in spam emails (e.g., 'meeting', 'attached', 'review'). Construct a list, `ham_indices`, storing the indices of the hammy words you selected in the vocabulary generated by `TfidfVectorizer`.\n",
    "- Use the function provided below, `plot_spam_words_by_cluster`, to plot the average TF-IDF features for your selected spammy words and hammy words for each cluster. The function takes four parameters:\n",
    "    - `predicted` is predicted cluster assignments returned by `GaussianMixture.predict()`\n",
    "    - `n_clusters` is the number of clusters. This should match the number of clusters from your GMM.\n",
    "    - `spam_indices` is a list of indices of spammy words in the vocabulary.\n",
    "    - `ham_indices` is a list of indices of hammy (typical business) words in the vocabulary."
   ]
  },
  {
   "cell_type": "code",
   "execution_count": 5,
   "id": "5d579488",
   "metadata": {},
   "outputs": [],
   "source": [
    "def plot_spam_words_by_cluster(predicted, n_clusters, spam_indices, ham_indices):\n",
    "    import numpy as np\n",
    "    import matplotlib.pyplot as plt\n",
    "    \n",
    "    # Calculate mean TF-IDF features for each cluster\n",
    "    mean_tfidf_spam = []\n",
    "    mean_tfidf_ham = []\n",
    "    for spam in spam_indices:\n",
    "        mean_tfidf_spam.append([])\n",
    "    for ham in ham_indices:\n",
    "        mean_tfidf_ham.append([])\n",
    "    \n",
    "    for i in range(n_clusters):\n",
    "        for j, spam_idx in enumerate(spam_indices):\n",
    "            mean_tfidf_spam[j].append(X[predicted==i, spam_idx].mean())\n",
    "        for j, ham_idx in enumerate(ham_indices):\n",
    "            mean_tfidf_ham[j].append(X[predicted==i, ham_idx].mean())\n",
    "    \n",
    "    # Generate plot\n",
    "    fig, ax = plt.subplots()\n",
    "\n",
    "    ind = np.arange(n_clusters)    # the x locations for the groups\n",
    "    width = 0.10         # the width of the bars\n",
    "\n",
    "    # Plot spam bars\n",
    "    for i, val in enumerate(mean_tfidf_spam):\n",
    "        spam_bar = ax.bar(ind - (len(mean_tfidf_spam)-i-1)*width, val, width, color='r', bottom=0)\n",
    "\n",
    "    # Plot ham bars\n",
    "    for i, val in enumerate(mean_tfidf_ham):\n",
    "        ham_bar = ax.bar(ind + (len(mean_tfidf_ham)-i)*width, val, width,\n",
    "                color='y', bottom=0)\n",
    "\n",
    "    ax.set_title('Mean TF-IDF Features by Cluster for Spam-Relevant Words')\n",
    "    ax.set_xticks(ind + width / 2)\n",
    "    xticklabels = []\n",
    "    for i in range(n_clusters):\n",
    "        xticklabels.append('Cluster ' + str(i) + '\\n(n=' + str((predicted==i).sum()) + ')')\n",
    "    ax.set_xticklabels(xticklabels)\n",
    "\n",
    "    ax.legend((spam_bar[0], ham_bar[0]), ('Spammy words', 'Hammy words'))\n",
    "    ax.autoscale_view()\n",
    "    ax.set_ylabel('Mean TF-IDF')\n",
    "    plt.show()"
   ]
  },
  {
   "cell_type": "code",
   "execution_count": 6,
   "id": "5a004d3f",
   "metadata": {},
   "outputs": [
    {
     "data": {
      "image/png": "[encoded data removed]",
      "text/plain": [
       "<Figure size 432x288 with 1 Axes>"
      ]
     },
     "metadata": {
      "needs_background": "light"
     },
     "output_type": "display_data"
    }
   ],
   "source": [
    "########################################################################\n",
    "######################### Write your code here #########################\n",
    "########################################################################\n",
    "\n",
    "spammy_words=['click', 'www', 'offer']\n",
    "#spammy_words=['click','apply','offer']\n",
    "hammy_words=['meeting', 'attached', 'review']\n",
    "spam_indices=[]\n",
    "ham_indices=[]\n",
    "\n",
    "spam_indices.extend([tf_vectorizer.vocabulary_[word] for word in spammy_words])\n",
    "ham_indices.extend([tf_vectorizer.vocabulary_[word] for word in hammy_words])\n",
    "plot_spam_words_by_cluster(gmm.predict(X_array), gmm.n_components, spam_indices, ham_indices)\n",
    "\n"
   ]
  },
  {
   "cell_type": "markdown",
   "id": "e8557e70",
   "metadata": {},
   "source": [
    "### Part E: Interpret results "
   ]
  },
  {
   "cell_type": "markdown",
   "id": "9745c967",
   "metadata": {},
   "source": [
    "From the plot generated in part (d), do any of the clusters correspond to spam emails, based on the frequency of spammy and hammy words? Do any of the clusters appear to correspond to typical business emails (ham)? \n",
    "\n",
    "Re-run your analysis with a different choice for the number of clusters in your GMM (e.g., `n_clusters=5` or `n_clusters=2`). How does changing the number of clusters affect your results? Does one choice of `n_clusters` appear better than another for locating clusters of spam emails?"
   ]
  },
  {
   "cell_type": "markdown",
   "id": "2fc4ba63",
   "metadata": {},
   "source": [
    "*** ANSWER HERE IN TEXT ***  With n_clusters=3, the Cluster 0 is a mixture of spam and ham emails, although it contains more of spam emails. Similarly Cluster 2 shows a similar relation. Whereas, Cluster 1 is containing ham emails majorly.\n",
    "\n",
    "With n_clusters=2, clusters have a mixture of spam and ham emails. No proper segregation\n",
    "\n",
    "With n_clusters=5, clusters have segregated emails on the basis of spam and ham to a great extent.\n",
    "\n",
    "We can say n_clusters=2/3 is not a value for k."
   ]
  },
  {
   "cell_type": "code",
   "execution_count": 7,
   "id": "728b49cd",
   "metadata": {},
   "outputs": [
    {
     "name": "stdout",
     "output_type": "stream",
     "text": [
      "5 CLUSTER GRAPH\n"
     ]
    },
    {
     "data": {
      "image/png": "[encoded data removed]",
      "text/plain": [
       "<Figure size 432x288 with 1 Axes>"
      ]
     },
     "metadata": {
      "needs_background": "light"
     },
     "output_type": "display_data"
    },
    {
     "name": "stdout",
     "output_type": "stream",
     "text": [
      "2 CLUSTER GRAPH\n"
     ]
    },
    {
     "data": {
      "image/png": "[encoded data removed]",
      "text/plain": [
       "<Figure size 432x288 with 1 Axes>"
      ]
     },
     "metadata": {
      "needs_background": "light"
     },
     "output_type": "display_data"
    },
    {
     "name": "stdout",
     "output_type": "stream",
     "text": [
      "4 CLUSTER GRAPH\n"
     ]
    },
    {
     "data": {
      "image/png": "[encoded data removed]",
      "text/plain": [
       "<Figure size 432x288 with 1 Axes>"
      ]
     },
     "metadata": {
      "needs_background": "light"
     },
     "output_type": "display_data"
    }
   ],
   "source": [
    "########################################################################\n",
    "######################### Write your code here #########################\n",
    "########################################################################\n",
    "# n_clusters=5\n",
    "print(\"5 CLUSTER GRAPH\")\n",
    "gmm=GaussianMixture(n_components=5,random_state=0,n_init=1)\n",
    "gmm_fit=gmm.fit(X_array)\n",
    "plot_spam_words_by_cluster(gmm.predict(X_array), gmm.n_components, spam_indices, ham_indices)\n",
    "\n",
    "#n_clusters=2\n",
    "print(\"2 CLUSTER GRAPH\")\n",
    "gmm=GaussianMixture(n_components=2,random_state=0,n_init=1)\n",
    "gmm_fit=gmm.fit(X_array)\n",
    "plot_spam_words_by_cluster(gmm.predict(X_array), gmm.n_components, spam_indices, ham_indices)\n",
    "\n",
    "#n_clusters=4\n",
    "print(\"4 CLUSTER GRAPH\")\n",
    "gmm=GaussianMixture(n_components=4,random_state=0,n_init=1)\n",
    "gmm_fit=gmm.fit(X_array)\n",
    "plot_spam_words_by_cluster(gmm.predict(X_array), gmm.n_components, spam_indices, ham_indices)\n"
   ]
  },
  {
   "cell_type": "code",
   "execution_count": null,
   "id": "b7d21198",
   "metadata": {},
   "outputs": [],
   "source": []
  }
 ],
 "metadata": {
  "kernelspec": {
   "display_name": "Python 3",
   "language": "python",
   "name": "python3"
  },
  "language_info": {
   "codemirror_mode": {
    "name": "ipython",
    "version": 3
   },
   "file_extension": ".py",
   "mimetype": "text/x-python",
   "name": "python",
   "nbconvert_exporter": "python",
   "pygments_lexer": "ipython3",
   "version": "3.8.8"
  }
 },
 "nbformat": 4,
 "nbformat_minor": 5
}
